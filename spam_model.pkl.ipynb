{
 "cells": [
  {
   "cell_type": "code",
   "execution_count": 1,
   "id": "2882ec44-236b-46d8-af0d-7270fe0e67de",
   "metadata": {},
   "outputs": [
    {
     "name": "stdout",
     "output_type": "stream",
     "text": [
      "Requirement already satisfied: pandas in c:\\users\\pmyls\\anaconda3\\envs\\new_env\\lib\\site-packages (2.2.3)\n",
      "Requirement already satisfied: numpy in c:\\users\\pmyls\\anaconda3\\envs\\new_env\\lib\\site-packages (2.0.2)\n",
      "Requirement already satisfied: scikit-learn in c:\\users\\pmyls\\anaconda3\\envs\\new_env\\lib\\site-packages (1.6.1)\n",
      "Requirement already satisfied: nltk in c:\\users\\pmyls\\anaconda3\\envs\\new_env\\lib\\site-packages (3.9.1)\n",
      "Requirement already satisfied: joblib in c:\\users\\pmyls\\anaconda3\\envs\\new_env\\lib\\site-packages (1.4.2)\n",
      "Requirement already satisfied: streamlit in c:\\users\\pmyls\\anaconda3\\envs\\new_env\\lib\\site-packages (1.45.0)\n",
      "Requirement already satisfied: flask in c:\\users\\pmyls\\anaconda3\\envs\\new_env\\lib\\site-packages (3.0.3)\n",
      "Collecting gunicorn\n",
      "  Downloading gunicorn-23.0.0-py3-none-any.whl.metadata (4.4 kB)\n",
      "Requirement already satisfied: python-dateutil>=2.8.2 in c:\\users\\pmyls\\anaconda3\\envs\\new_env\\lib\\site-packages (from pandas) (2.9.0.post0)\n",
      "Requirement already satisfied: pytz>=2020.1 in c:\\users\\pmyls\\anaconda3\\envs\\new_env\\lib\\site-packages (from pandas) (2024.1)\n",
      "Requirement already satisfied: tzdata>=2022.7 in c:\\users\\pmyls\\anaconda3\\envs\\new_env\\lib\\site-packages (from pandas) (2023.3)\n",
      "Requirement already satisfied: scipy>=1.6.0 in c:\\users\\pmyls\\anaconda3\\envs\\new_env\\lib\\site-packages (from scikit-learn) (1.13.1)\n",
      "Requirement already satisfied: threadpoolctl>=3.1.0 in c:\\users\\pmyls\\anaconda3\\envs\\new_env\\lib\\site-packages (from scikit-learn) (3.5.0)\n",
      "Requirement already satisfied: click in c:\\users\\pmyls\\anaconda3\\envs\\new_env\\lib\\site-packages (from nltk) (8.1.8)\n",
      "Requirement already satisfied: regex>=2021.8.3 in c:\\users\\pmyls\\anaconda3\\envs\\new_env\\lib\\site-packages (from nltk) (2024.11.6)\n",
      "Requirement already satisfied: tqdm in c:\\users\\pmyls\\anaconda3\\envs\\new_env\\lib\\site-packages (from nltk) (4.67.1)\n",
      "Requirement already satisfied: altair<6,>=4.0 in c:\\users\\pmyls\\anaconda3\\envs\\new_env\\lib\\site-packages (from streamlit) (5.5.0)\n",
      "Requirement already satisfied: blinker<2,>=1.5.0 in c:\\users\\pmyls\\anaconda3\\envs\\new_env\\lib\\site-packages (from streamlit) (1.9.0)\n",
      "Requirement already satisfied: cachetools<6,>=4.0 in c:\\users\\pmyls\\anaconda3\\envs\\new_env\\lib\\site-packages (from streamlit) (5.5.2)\n",
      "Requirement already satisfied: packaging<25,>=20 in c:\\users\\pmyls\\anaconda3\\envs\\new_env\\lib\\site-packages (from streamlit) (24.2)\n",
      "Requirement already satisfied: pillow<12,>=7.1.0 in c:\\users\\pmyls\\anaconda3\\envs\\new_env\\lib\\site-packages (from streamlit) (11.1.0)\n",
      "Requirement already satisfied: protobuf<7,>=3.20 in c:\\users\\pmyls\\anaconda3\\envs\\new_env\\lib\\site-packages (from streamlit) (6.30.2)\n",
      "Requirement already satisfied: pyarrow>=7.0 in c:\\users\\pmyls\\anaconda3\\envs\\new_env\\lib\\site-packages (from streamlit) (20.0.0)\n",
      "Requirement already satisfied: requests<3,>=2.27 in c:\\users\\pmyls\\anaconda3\\envs\\new_env\\lib\\site-packages (from streamlit) (2.32.3)\n",
      "Requirement already satisfied: tenacity<10,>=8.1.0 in c:\\users\\pmyls\\anaconda3\\envs\\new_env\\lib\\site-packages (from streamlit) (9.1.2)\n",
      "Requirement already satisfied: toml<2,>=0.10.1 in c:\\users\\pmyls\\anaconda3\\envs\\new_env\\lib\\site-packages (from streamlit) (0.10.2)\n",
      "Requirement already satisfied: typing-extensions<5,>=4.4.0 in c:\\users\\pmyls\\anaconda3\\envs\\new_env\\lib\\site-packages (from streamlit) (4.12.2)\n",
      "Requirement already satisfied: watchdog<7,>=2.1.5 in c:\\users\\pmyls\\anaconda3\\envs\\new_env\\lib\\site-packages (from streamlit) (6.0.0)\n",
      "Requirement already satisfied: gitpython!=3.1.19,<4,>=3.0.7 in c:\\users\\pmyls\\anaconda3\\envs\\new_env\\lib\\site-packages (from streamlit) (3.1.44)\n",
      "Requirement already satisfied: pydeck<1,>=0.8.0b4 in c:\\users\\pmyls\\anaconda3\\envs\\new_env\\lib\\site-packages (from streamlit) (0.9.1)\n",
      "Requirement already satisfied: tornado<7,>=6.0.3 in c:\\users\\pmyls\\anaconda3\\envs\\new_env\\lib\\site-packages (from streamlit) (6.4.2)\n",
      "Requirement already satisfied: Werkzeug>=3.0.0 in c:\\users\\pmyls\\anaconda3\\envs\\new_env\\lib\\site-packages (from flask) (3.0.6)\n",
      "Requirement already satisfied: Jinja2>=3.1.2 in c:\\users\\pmyls\\anaconda3\\envs\\new_env\\lib\\site-packages (from flask) (3.1.6)\n",
      "Requirement already satisfied: itsdangerous>=2.1.2 in c:\\users\\pmyls\\anaconda3\\envs\\new_env\\lib\\site-packages (from flask) (2.2.0)\n",
      "Requirement already satisfied: importlib-metadata>=3.6.0 in c:\\users\\pmyls\\anaconda3\\envs\\new_env\\lib\\site-packages (from flask) (8.5.0)\n",
      "Requirement already satisfied: jsonschema>=3.0 in c:\\users\\pmyls\\anaconda3\\envs\\new_env\\lib\\site-packages (from altair<6,>=4.0->streamlit) (4.23.0)\n",
      "Requirement already satisfied: narwhals>=1.14.2 in c:\\users\\pmyls\\anaconda3\\envs\\new_env\\lib\\site-packages (from altair<6,>=4.0->streamlit) (1.37.1)\n",
      "Requirement already satisfied: colorama in c:\\users\\pmyls\\anaconda3\\envs\\new_env\\lib\\site-packages (from click->nltk) (0.4.6)\n",
      "Requirement already satisfied: gitdb<5,>=4.0.1 in c:\\users\\pmyls\\anaconda3\\envs\\new_env\\lib\\site-packages (from gitpython!=3.1.19,<4,>=3.0.7->streamlit) (4.0.12)\n",
      "Requirement already satisfied: zipp>=3.20 in c:\\users\\pmyls\\anaconda3\\envs\\new_env\\lib\\site-packages (from importlib-metadata>=3.6.0->flask) (3.21.0)\n",
      "Requirement already satisfied: MarkupSafe>=2.0 in c:\\users\\pmyls\\anaconda3\\envs\\new_env\\lib\\site-packages (from Jinja2>=3.1.2->flask) (3.0.2)\n",
      "Requirement already satisfied: six>=1.5 in c:\\users\\pmyls\\anaconda3\\envs\\new_env\\lib\\site-packages (from python-dateutil>=2.8.2->pandas) (1.16.0)\n",
      "Requirement already satisfied: charset-normalizer<4,>=2 in c:\\users\\pmyls\\anaconda3\\envs\\new_env\\lib\\site-packages (from requests<3,>=2.27->streamlit) (3.3.2)\n",
      "Requirement already satisfied: idna<4,>=2.5 in c:\\users\\pmyls\\anaconda3\\envs\\new_env\\lib\\site-packages (from requests<3,>=2.27->streamlit) (3.7)\n",
      "Requirement already satisfied: urllib3<3,>=1.21.1 in c:\\users\\pmyls\\anaconda3\\envs\\new_env\\lib\\site-packages (from requests<3,>=2.27->streamlit) (2.3.0)\n",
      "Requirement already satisfied: certifi>=2017.4.17 in c:\\users\\pmyls\\anaconda3\\envs\\new_env\\lib\\site-packages (from requests<3,>=2.27->streamlit) (2025.4.26)\n",
      "Requirement already satisfied: smmap<6,>=3.0.1 in c:\\users\\pmyls\\anaconda3\\envs\\new_env\\lib\\site-packages (from gitdb<5,>=4.0.1->gitpython!=3.1.19,<4,>=3.0.7->streamlit) (5.0.2)\n",
      "Requirement already satisfied: attrs>=22.2.0 in c:\\users\\pmyls\\anaconda3\\envs\\new_env\\lib\\site-packages (from jsonschema>=3.0->altair<6,>=4.0->streamlit) (24.3.0)\n",
      "Requirement already satisfied: jsonschema-specifications>=2023.03.6 in c:\\users\\pmyls\\anaconda3\\envs\\new_env\\lib\\site-packages (from jsonschema>=3.0->altair<6,>=4.0->streamlit) (2023.7.1)\n",
      "Requirement already satisfied: referencing>=0.28.4 in c:\\users\\pmyls\\anaconda3\\envs\\new_env\\lib\\site-packages (from jsonschema>=3.0->altair<6,>=4.0->streamlit) (0.30.2)\n",
      "Requirement already satisfied: rpds-py>=0.7.1 in c:\\users\\pmyls\\anaconda3\\envs\\new_env\\lib\\site-packages (from jsonschema>=3.0->altair<6,>=4.0->streamlit) (0.22.3)\n",
      "Downloading gunicorn-23.0.0-py3-none-any.whl (85 kB)\n",
      "Installing collected packages: gunicorn\n",
      "Successfully installed gunicorn-23.0.0\n",
      "Note: you may need to restart the kernel to use updated packages.\n"
     ]
    },
    {
     "name": "stderr",
     "output_type": "stream",
     "text": [
      "  WARNING: The script gunicorn.exe is installed in 'C:\\Users\\PMYLS\\anaconda3\\envs\\new_env\\Scripts' which is not on PATH.\n",
      "  Consider adding this directory to PATH or, if you prefer to suppress this warning, use --no-warn-script-location.\n"
     ]
    }
   ],
   "source": [
    "pip install pandas numpy scikit-learn nltk joblib streamlit flask gunicorn"
   ]
  },
  {
   "cell_type": "code",
   "execution_count": 5,
   "id": "39570c68-af86-404b-a02e-2d0131c19f03",
   "metadata": {},
   "outputs": [
    {
     "name": "stdout",
     "output_type": "stream",
     "text": [
      "Accuracy: 0.9668161434977578\n"
     ]
    },
    {
     "data": {
      "text/plain": [
       "['tfidf_vectorizer.pkl']"
      ]
     },
     "execution_count": 5,
     "metadata": {},
     "output_type": "execute_result"
    }
   ],
   "source": [
    "import pandas as pd\n",
    "import numpy as np\n",
    "from sklearn.feature_extraction.text import TfidfVectorizer\n",
    "from sklearn.model_selection import train_test_split\n",
    "from sklearn.naive_bayes import MultinomialNB\n",
    "from sklearn.metrics import accuracy_score\n",
    "import joblib\n",
    "\n",
    "# Load data\n",
    "df = pd.read_csv(r\"C:\\\\Users\\\\PMYLS\\\\Desktop\\\\data\\\\spam.csv\", encoding=\"latin-1\")\n",
    "df = df[[\"v1\", \"v2\"]]  # Keep only label & text columns\n",
    "df.columns = [\"label\", \"text\"]\n",
    "\n",
    "# Convert labels to binary (0=ham, 1=spam)\n",
    "df[\"label\"] = df[\"label\"].map({\"ham\": 0, \"spam\": 1})\n",
    "\n",
    "# Split data\n",
    "X_train, X_test, y_train, y_test = train_test_split(df[\"text\"], df[\"label\"], test_size=0.2, random_state=42)\n",
    "\n",
    "# Vectorize text (TF-IDF)\n",
    "tfidf = TfidfVectorizer(max_features=5000)\n",
    "X_train_vec = tfidf.fit_transform(X_train)\n",
    "X_test_vec = tfidf.transform(X_test)\n",
    "\n",
    "# Train model\n",
    "model = MultinomialNB()\n",
    "model.fit(X_train_vec, y_train)\n",
    "\n",
    "# Evaluate\n",
    "y_pred = model.predict(X_test_vec)\n",
    "print(\"Accuracy:\", accuracy_score(y_test, y_pred))  # Should be ~98%\n",
    "\n",
    "# Save model & vectorizer\n",
    "joblib.dump(model, \"spam_model.pkl\")\n",
    "joblib.dump(tfidf, \"tfidf_vectorizer.pkl\")"
   ]
  },
  {
   "cell_type": "code",
   "execution_count": null,
   "id": "0c399970-d649-4f2a-a6e7-47bd5dff7f82",
   "metadata": {},
   "outputs": [],
   "source": []
  }
 ],
 "metadata": {
  "kernelspec": {
   "display_name": "Python (new_env)",
   "language": "python",
   "name": "new_env"
  },
  "language_info": {
   "codemirror_mode": {
    "name": "ipython",
    "version": 3
   },
   "file_extension": ".py",
   "mimetype": "text/x-python",
   "name": "python",
   "nbconvert_exporter": "python",
   "pygments_lexer": "ipython3",
   "version": "3.9.21"
  }
 },
 "nbformat": 4,
 "nbformat_minor": 5
}
